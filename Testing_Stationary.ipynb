{
 "cells": [
  {
   "cell_type": "markdown",
   "metadata": {
    "colab_type": "text",
    "id": "-UX9oGMnikFz"
   },
   "source": [
    "**Testing for Time Stationary or Non - Stationary**"
   ]
  },
  {
   "cell_type": "markdown",
   "metadata": {
    "colab_type": "text",
    "id": "uBG5xtHbqbXf"
   },
   "source": [
    "**Brief Notes:**\n",
    "Data is stationary when mean and variance does not changes with time and in statistical test the test statistics are lesser than the crirical values and it's not function of time.\n",
    "Data is non-stationary when mean and variance changes with time and in statistical test the test statistics are higher than the crirical values.\n",
    "However, the non-stationary data can be converted to stationary using differencing and transformation method.\n"
   ]
  },
  {
   "cell_type": "markdown",
   "metadata": {
    "colab_type": "text",
    "id": "8uz2uGcsjrM3"
   },
   "source": [
    "Testing Stationary using Augmented Dickey Fuller(ADF) test and Kwiatkowski-Phillips-Schmidt-Shin(KPSS) test"
   ]
  },
  {
   "cell_type": "code",
   "execution_count": 0,
   "metadata": {
    "colab": {},
    "colab_type": "code",
    "id": "ZU21NHFaOOJw"
   },
   "outputs": [],
   "source": [
    "#Importing libraries...\n",
    "import pandas as pd\n",
    "import numpy as np\n",
    "import datetime as dt\n",
    "import warnings\n",
    "from statsmodels.tsa.stattools import adfuller\n",
    "from statsmodels.tsa.stattools import kpss\n",
    "import matplotlib.pyplot as plt\n",
    "warnings.filterwarnings(\"ignore\")\n",
    "%matplotlib inline"
   ]
  },
  {
   "cell_type": "markdown",
   "metadata": {
    "colab_type": "text",
    "id": "k_FQ0NkWkmPt"
   },
   "source": [
    "DataSet here we used is some random prices based on time"
   ]
  },
  {
   "cell_type": "code",
   "execution_count": 0,
   "metadata": {
    "colab": {
     "base_uri": "https://localhost:8080/",
     "height": 545
    },
    "colab_type": "code",
    "id": "QJgovPDYOX1u",
    "outputId": "b1c33ab6-b2d7-4a62-8925-b4518ac0f13d"
   },
   "outputs": [
    {
     "data": {
      "text/html": [
       "<div>\n",
       "<style scoped>\n",
       "    .dataframe tbody tr th:only-of-type {\n",
       "        vertical-align: middle;\n",
       "    }\n",
       "\n",
       "    .dataframe tbody tr th {\n",
       "        vertical-align: top;\n",
       "    }\n",
       "\n",
       "    .dataframe thead th {\n",
       "        text-align: right;\n",
       "    }\n",
       "</style>\n",
       "<table border=\"1\" class=\"dataframe\">\n",
       "  <thead>\n",
       "    <tr style=\"text-align: right;\">\n",
       "      <th></th>\n",
       "      <th>Price</th>\n",
       "    </tr>\n",
       "    <tr>\n",
       "      <th>Date</th>\n",
       "      <th></th>\n",
       "    </tr>\n",
       "  </thead>\n",
       "  <tbody>\n",
       "    <tr>\n",
       "      <th>2011-01-17</th>\n",
       "      <td>120</td>\n",
       "    </tr>\n",
       "    <tr>\n",
       "      <th>2011-01-18</th>\n",
       "      <td>121</td>\n",
       "    </tr>\n",
       "    <tr>\n",
       "      <th>2011-01-19</th>\n",
       "      <td>122</td>\n",
       "    </tr>\n",
       "    <tr>\n",
       "      <th>2011-01-20</th>\n",
       "      <td>123</td>\n",
       "    </tr>\n",
       "    <tr>\n",
       "      <th>2011-01-21</th>\n",
       "      <td>126</td>\n",
       "    </tr>\n",
       "    <tr>\n",
       "      <th>2011-01-22</th>\n",
       "      <td>129</td>\n",
       "    </tr>\n",
       "    <tr>\n",
       "      <th>2011-01-23</th>\n",
       "      <td>132</td>\n",
       "    </tr>\n",
       "    <tr>\n",
       "      <th>2011-01-24</th>\n",
       "      <td>135</td>\n",
       "    </tr>\n",
       "    <tr>\n",
       "      <th>2011-01-25</th>\n",
       "      <td>138</td>\n",
       "    </tr>\n",
       "    <tr>\n",
       "      <th>2011-01-26</th>\n",
       "      <td>142</td>\n",
       "    </tr>\n",
       "    <tr>\n",
       "      <th>2011-01-27</th>\n",
       "      <td>146</td>\n",
       "    </tr>\n",
       "    <tr>\n",
       "      <th>2011-01-28</th>\n",
       "      <td>150</td>\n",
       "    </tr>\n",
       "    <tr>\n",
       "      <th>2011-01-29</th>\n",
       "      <td>154</td>\n",
       "    </tr>\n",
       "    <tr>\n",
       "      <th>2011-01-30</th>\n",
       "      <td>159</td>\n",
       "    </tr>\n",
       "    <tr>\n",
       "      <th>2011-01-31</th>\n",
       "      <td>161</td>\n",
       "    </tr>\n",
       "  </tbody>\n",
       "</table>\n",
       "</div>"
      ],
      "text/plain": [
       "            Price\n",
       "Date             \n",
       "2011-01-17    120\n",
       "2011-01-18    121\n",
       "2011-01-19    122\n",
       "2011-01-20    123\n",
       "2011-01-21    126\n",
       "2011-01-22    129\n",
       "2011-01-23    132\n",
       "2011-01-24    135\n",
       "2011-01-25    138\n",
       "2011-01-26    142\n",
       "2011-01-27    146\n",
       "2011-01-28    150\n",
       "2011-01-29    154\n",
       "2011-01-30    159\n",
       "2011-01-31    161"
      ]
     },
     "execution_count": 145,
     "metadata": {
      "tags": []
     },
     "output_type": "execute_result"
    }
   ],
   "source": [
    "#Importing dataset...\n",
    "data = pd.read_csv(\"/content/Time series.csv\")\n",
    "data.timestamp = pd.to_datetime(data[\"Date\"])\n",
    "data.index = data.timestamp\n",
    "data.drop(\"Date\", axis = 1, inplace= True)\n",
    "data"
   ]
  },
  {
   "cell_type": "markdown",
   "metadata": {
    "colab_type": "text",
    "id": "i2sHVPvxk-Ft"
   },
   "source": [
    "Plotting the price vs time to check visually if the data has trend or not.\n",
    "If there is a trend in data, then the mean and variance will change on time to time and if mean and variance is not constant then it's non-stationary"
   ]
  },
  {
   "cell_type": "code",
   "execution_count": 0,
   "metadata": {
    "colab": {
     "base_uri": "https://localhost:8080/",
     "height": 329
    },
    "colab_type": "code",
    "id": "Iip1vocbOzEU",
    "outputId": "bf1cd6c2-f93d-44f7-b6eb-e3d678424920"
   },
   "outputs": [
    {
     "data": {
      "text/plain": [
       "<Figure size 432x288 with 0 Axes>"
      ]
     },
     "execution_count": 146,
     "metadata": {
      "tags": []
     },
     "output_type": "execute_result"
    },
    {
     "data": {
      "image/png": "[encoded data removed]",
      "text/plain": [
       "<Figure size 432x288 with 1 Axes>"
      ]
     },
     "metadata": {
      "needs_background": "light",
      "tags": []
     },
     "output_type": "display_data"
    },
    {
     "data": {
      "text/plain": [
       "<Figure size 432x288 with 0 Axes>"
      ]
     },
     "metadata": {
      "tags": []
     },
     "output_type": "display_data"
    }
   ],
   "source": [
    "plt.plot(data.index.day, data.Price)\n",
    "plt.title(\"price of X asset\")\n",
    "plt.xlabel(\"Date\")\n",
    "plt.ylabel(\"Price\")\n",
    "plt.legend(\"price\")\n",
    "plt.figure()"
   ]
  },
  {
   "cell_type": "markdown",
   "metadata": {
    "colab_type": "text",
    "id": "NIYrLwTymEva"
   },
   "source": [
    "Here we can see clearly that price is trending hence it's non-stationary."
   ]
  },
  {
   "cell_type": "markdown",
   "metadata": {
    "colab_type": "text",
    "id": "VrmfA9xwnVEF"
   },
   "source": [
    "Creating functions for statistical testing"
   ]
  },
  {
   "cell_type": "code",
   "execution_count": 0,
   "metadata": {
    "colab": {},
    "colab_type": "code",
    "id": "Vn58_FjUO-RP"
   },
   "outputs": [],
   "source": [
    "#ADF test...\n",
    "def adf_test(dat):\n",
    "  print(\"Test results from ADF: \")\n",
    "  test_st = adfuller(dat, autolag= \"AIC\")\n",
    "  test_st_out = pd.Series(test_st[0:4], index=[\"Test Statistics\", \"p-value\", \"Lags\", \"Number of obs\"])\n",
    "  for a,b in test_st[4].items():\n",
    "    test_st_out['critical value {}'.format(a)] = b\n",
    "  return(test_st_out)\n",
    "\n",
    "#KPSS test...\n",
    "def kpss_test(dat):\n",
    "  print(\"Test results from kpss: \")\n",
    "  test_st = kpss(dat, regression = 'c')\n",
    "  test_st_out = pd.Series(test_st[0:3], index=[\"Test Statistics\", \"p-value\", \"Lags\"])\n",
    "  for a,b in test_st[3].items():\n",
    "    test_st_out['critical value {}'.format(a)] = b\n",
    "  return(test_st_out)"
   ]
  },
  {
   "cell_type": "code",
   "execution_count": 0,
   "metadata": {
    "colab": {
     "base_uri": "https://localhost:8080/",
     "height": 170
    },
    "colab_type": "code",
    "id": "09sPznpiWAYJ",
    "outputId": "41d74350-392d-4f7c-9c6d-a686c2554a86"
   },
   "outputs": [
    {
     "name": "stdout",
     "output_type": "stream",
     "text": [
      "Test results from ADF: \n"
     ]
    },
    {
     "data": {
      "text/plain": [
       "Test Statistics        0.225051\n",
       "p-value                0.973632\n",
       "Lags                   1.000000\n",
       "Number of obs         13.000000\n",
       "critical value 1%     -4.068854\n",
       "critical value 5%     -3.127149\n",
       "critical value 10%    -2.701730\n",
       "dtype: float64"
      ]
     },
     "execution_count": 148,
     "metadata": {
      "tags": []
     },
     "output_type": "execute_result"
    }
   ],
   "source": [
    "adf_test(data.Price)"
   ]
  },
  {
   "cell_type": "code",
   "execution_count": 0,
   "metadata": {
    "colab": {
     "base_uri": "https://localhost:8080/",
     "height": 170
    },
    "colab_type": "code",
    "id": "yV2rYuN-XKV8",
    "outputId": "bbe3b884-5c85-4085-fdb7-76bd9873a12a"
   },
   "outputs": [
    {
     "name": "stdout",
     "output_type": "stream",
     "text": [
      "Test results from kpss: \n"
     ]
    },
    {
     "data": {
      "text/plain": [
       "Test Statistics        0.368132\n",
       "p-value                0.090891\n",
       "Lags                   8.000000\n",
       "critical value 10%     0.347000\n",
       "critical value 5%      0.463000\n",
       "critical value 2.5%    0.574000\n",
       "critical value 1%      0.739000\n",
       "dtype: float64"
      ]
     },
     "execution_count": 149,
     "metadata": {
      "tags": []
     },
     "output_type": "execute_result"
    }
   ],
   "source": [
    "kpss_test(data.Price)"
   ]
  },
  {
   "cell_type": "markdown",
   "metadata": {
    "colab_type": "text",
    "id": "7PEc2a5knv7l"
   },
   "source": [
    "The test statistics in both test is higher than the critical value and if test statistics is higher than critical value then it concludes that it's non-stationary"
   ]
  },
  {
   "cell_type": "markdown",
   "metadata": {
    "colab_type": "text",
    "id": "-el7rN7AoVeQ"
   },
   "source": [
    "Reference:\n",
    "\n",
    "\n",
    "1.   Analysis of Financial Time Series by Ruey S. Tsay\n",
    "2.   https://www.analyticsvidhya.com/blog/2018/09/non-stationary-time-series-python/\n",
    "\n",
    "\n",
    "\n"
   ]
  },
  {
   "cell_type": "code",
   "execution_count": 0,
   "metadata": {
    "colab": {},
    "colab_type": "code",
    "id": "dsZeQTqOpnwN"
   },
   "outputs": [],
   "source": []
  }
 ],
 "metadata": {
  "colab": {
   "collapsed_sections": [],
   "name": "Testing Stationary.ipynb",
   "provenance": []
  },
  "kernelspec": {
   "display_name": "Python 3",
   "language": "python",
   "name": "python3"
  },
  "language_info": {
   "codemirror_mode": {
    "name": "ipython",
    "version": 3
   },
   "file_extension": ".py",
   "mimetype": "text/x-python",
   "name": "python",
   "nbconvert_exporter": "python",
   "pygments_lexer": "ipython3",
   "version": "3.7.6"
  }
 },
 "nbformat": 4,
 "nbformat_minor": 1
}
